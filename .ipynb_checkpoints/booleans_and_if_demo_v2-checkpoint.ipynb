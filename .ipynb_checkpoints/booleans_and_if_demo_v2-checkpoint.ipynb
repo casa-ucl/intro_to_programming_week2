{
 "cells": [
  {
   "cell_type": "markdown",
   "metadata": {},
   "source": [
    "# Boolean expressions and if statements"
   ]
  },
  {
   "cell_type": "markdown",
   "metadata": {},
   "source": [
    "## If Statements"
   ]
  },
  {
   "cell_type": "markdown",
   "metadata": {},
   "source": [
    "'if' statements allow your code to do different things in different circumstances:"
   ]
  },
  {
   "cell_type": "code",
   "execution_count": null,
   "metadata": {},
   "outputs": [],
   "source": [
    "answer = input(\"Would you like express shipping?\")\n",
    "if answer == \"yes\":\n",
    "    print(\"That will be an extra $10\")"
   ]
  },
  {
   "cell_type": "markdown",
   "metadata": {},
   "source": [
    "Indentation is important!"
   ]
  },
  {
   "cell_type": "code",
   "execution_count": null,
   "metadata": {},
   "outputs": [],
   "source": [
    "answer = input(\"Would you like express shipping?\")\n",
    "if answer == \"yes\":\n",
    "    print(\"That will be an extra $10\")\n",
    "print(\"Have a nice day\")"
   ]
  },
  {
   "cell_type": "markdown",
   "metadata": {},
   "source": [
    "You can check for negative condition"
   ]
  },
  {
   "cell_type": "code",
   "execution_count": null,
   "metadata": {},
   "outputs": [],
   "source": []
  },
  {
   "cell_type": "markdown",
   "metadata": {},
   "source": [
    "## If Statements with branching"
   ]
  },
  {
   "cell_type": "markdown",
   "metadata": {},
   "source": [
    "If and else statements"
   ]
  },
  {
   "cell_type": "code",
   "execution_count": null,
   "metadata": {},
   "outputs": [],
   "source": [
    "deposit = input(\"How much would you like to deposit?\")\n",
    "if float(deposit) > 100:\n",
    "    print(\"You get a free toaster!\")\n",
    "else:\n",
    "    print(\"Enjoy your mug!\") \n",
    "print(\"Have a nice day!\")"
   ]
  },
  {
   "cell_type": "markdown",
   "metadata": {},
   "source": [
    "If, elif and else statements"
   ]
  },
  {
   "cell_type": "code",
   "execution_count": null,
   "metadata": {},
   "outputs": [],
   "source": [
    "deposit = input(\"How much would you like to deposit?\")\n",
    "if float(deposit) > 100:\n",
    "    print(\"You get a free toaster!\")\n",
    "elif float(deposit) > 50 and float(deposit) <= 100:\n",
    "    print(\"Enjoy your mug!\") \n",
    "else:\n",
    "    print(\"Get your sticker!\")\n",
    "print(\"Have a nice day!\")"
   ]
  },
  {
   "cell_type": "markdown",
   "metadata": {},
   "source": [
    "Another example..."
   ]
  },
  {
   "cell_type": "code",
   "execution_count": null,
   "metadata": {},
   "outputs": [],
   "source": [
    "# Ask the user for a number.\n",
    "# If it is greater than 5, print \"Yes\".\n",
    "# Otherwise, print \"No\"."
   ]
  },
  {
   "cell_type": "markdown",
   "metadata": {},
   "source": [
    "You can have several different conditions:"
   ]
  },
  {
   "cell_type": "code",
   "execution_count": null,
   "metadata": {},
   "outputs": [],
   "source": [
    "# Ask the user for a number.\n",
    "# If it is greater than 5, print \"Yes\".\n",
    "# If it is equal to 5, print \"Bingo!\"\n",
    "# If it is less than 5, print \"No\"."
   ]
  },
  {
   "cell_type": "markdown",
   "metadata": {},
   "source": [
    "It can be very powerful to put if statements inside loops (loops are for repeating yourself - we will cover them shortly!):"
   ]
  },
  {
   "cell_type": "code",
   "execution_count": null,
   "metadata": {},
   "outputs": [],
   "source": [
    "names = ['Susan','Barbara','Ian','Vicki','Steven','Katarina','Dorothea','Polly','Ben']\n",
    "\n",
    "# Print every name in this list that do not contain an \"e\":\n"
   ]
  },
  {
   "cell_type": "code",
   "execution_count": null,
   "metadata": {},
   "outputs": [],
   "source": [
    "# Print every name in the list until you come to a name containing a \"t\":\n"
   ]
  },
  {
   "cell_type": "markdown",
   "metadata": {},
   "source": [
    "## Boolean Variables"
   ]
  },
  {
   "cell_type": "markdown",
   "metadata": {},
   "source": [
    "Boolean variables are always true or false:"
   ]
  },
  {
   "cell_type": "code",
   "execution_count": null,
   "metadata": {},
   "outputs": [],
   "source": [
    "x = True\n",
    "y = False\n",
    "\n",
    "print(x)\n",
    "print(y)"
   ]
  },
  {
   "cell_type": "markdown",
   "metadata": {},
   "source": [
    "If you want to test whether two things are greater, less, equal or not equal, you get a Boolean result:"
   ]
  },
  {
   "cell_type": "code",
   "execution_count": null,
   "metadata": {},
   "outputs": [],
   "source": [
    "a = 1.0\n",
    "b = 5.0\n",
    "c = 10.0\n",
    "\n",
    "# Greater than...\n",
    "e1 = \n",
    "\n",
    "# Less than...\n",
    "e2 = \n",
    "\n",
    "# Equal...\n",
    "e3 = \n",
    "\n",
    "# Not equal...\n",
    "e4 = "
   ]
  },
  {
   "cell_type": "code",
   "execution_count": null,
   "metadata": {},
   "outputs": [],
   "source": []
  },
  {
   "cell_type": "markdown",
   "metadata": {},
   "source": [
    "We can also check whether two expressions are both true, whether one or the other is true, whether an expression is false, etc."
   ]
  },
  {
   "cell_type": "code",
   "execution_count": null,
   "metadata": {},
   "outputs": [],
   "source": [
    "# Both true?\n",
    "e5 = \n",
    "\n",
    "# At least one true?\n",
    "e6 = \n",
    "\n",
    "# Not true?\n",
    "e7 = "
   ]
  },
  {
   "cell_type": "code",
   "execution_count": null,
   "metadata": {},
   "outputs": [],
   "source": []
  },
  {
   "cell_type": "markdown",
   "metadata": {},
   "source": [
    "And you can combine these ideas in many different ways:"
   ]
  },
  {
   "cell_type": "code",
   "execution_count": null,
   "metadata": {},
   "outputs": [],
   "source": [
    "e8 = not ((y and b > c) or x)\n",
    "e9 = (a == b) or (a == c) or (x == y) or (19 > 20)"
   ]
  },
  {
   "cell_type": "code",
   "execution_count": null,
   "metadata": {},
   "outputs": [],
   "source": []
  },
  {
   "cell_type": "markdown",
   "metadata": {},
   "source": [
    "You can also check whether an iterable contains a certain element:"
   ]
  },
  {
   "cell_type": "code",
   "execution_count": null,
   "metadata": {},
   "outputs": [],
   "source": [
    "# In a string:\n",
    "e10 = \n",
    "\n",
    "# In a list:\n",
    "e11 = \n",
    "\n",
    "# Not in a list:\n",
    "e12 = "
   ]
  },
  {
   "cell_type": "code",
   "execution_count": null,
   "metadata": {},
   "outputs": [],
   "source": []
  },
  {
   "cell_type": "markdown",
   "metadata": {},
   "source": [
    "You can use boolean variables to remember if a condition is true or false"
   ]
  },
  {
   "cell_type": "code",
   "execution_count": null,
   "metadata": {},
   "outputs": [],
   "source": [
    "deposit = input(\"How much would you like to deposit?\")\n",
    "if float(deposit) > 100:\n",
    "    # Sey the boolean variable freeToaster to True\n",
    "    freeToaster = True\n",
    "    \n",
    "# if the variable freeToaster is True, the print statement will execute\n",
    "if freeToaster:\n",
    "    print(\"Enjoy your toaster\")"
   ]
  }
 ],
 "metadata": {
  "kernelspec": {
   "display_name": "Python 3",
   "language": "python",
   "name": "python3"
  },
  "language_info": {
   "codemirror_mode": {
    "name": "ipython",
    "version": 3
   },
   "file_extension": ".py",
   "mimetype": "text/x-python",
   "name": "python",
   "nbconvert_exporter": "python",
   "pygments_lexer": "ipython3",
   "version": "3.6.5"
  }
 },
 "nbformat": 4,
 "nbformat_minor": 1
}
