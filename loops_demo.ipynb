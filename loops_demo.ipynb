{
 "cells": [
  {
   "cell_type": "markdown",
   "metadata": {},
   "source": [
    "# For and While Loops"
   ]
  },
  {
   "cell_type": "markdown",
   "metadata": {},
   "source": [
    "### For loops"
   ]
  },
  {
   "cell_type": "markdown",
   "metadata": {},
   "source": [
    "Suppose you want to print name of all guests coming to your party"
   ]
  },
  {
   "cell_type": "code",
   "execution_count": null,
   "metadata": {},
   "outputs": [],
   "source": [
    "guests = [\"Jack\", \"Ann\", \"Susie\", \"Adam\"]"
   ]
  },
  {
   "cell_type": "code",
   "execution_count": null,
   "metadata": {},
   "outputs": [],
   "source": [
    "print(\"Guest name:\", guests[0])\n",
    "print(\"Guest name:\", guests[1])\n",
    "print(\"Guest name:\", guests[2])\n",
    "print(\"Guest name:\", guests[3])"
   ]
  },
  {
   "cell_type": "code",
   "execution_count": null,
   "metadata": {},
   "outputs": [],
   "source": [
    "# We can use loops to repeat the same line of code as often as we want\n",
    "for guest in guests:\n",
    "    print(\"Guest name:\", guest)"
   ]
  },
  {
   "cell_type": "code",
   "execution_count": null,
   "metadata": {},
   "outputs": [],
   "source": [
    "# Only the indented code is repeated!\n",
    "for guest in guests:\n",
    "    print(\"Guest name:\", guest)\n",
    "print(\"All guest names have been printed.\")"
   ]
  },
  {
   "cell_type": "code",
   "execution_count": null,
   "metadata": {},
   "outputs": [],
   "source": [
    "# You can use the loop number using `enumerate`\n",
    "for i, guest in enumerate(guests):\n",
    "    print(\"Guest number\", i, guest)\n",
    "print(\"All guest names have been printed.\")"
   ]
  },
  {
   "cell_type": "markdown",
   "metadata": {},
   "source": [
    "Let's try another example..."
   ]
  },
  {
   "cell_type": "markdown",
   "metadata": {},
   "source": [
    "Suppose you have a list:"
   ]
  },
  {
   "cell_type": "code",
   "execution_count": null,
   "metadata": {},
   "outputs": [],
   "source": [
    "leap_years_20C = list(range(1904,2000,4))"
   ]
  },
  {
   "cell_type": "markdown",
   "metadata": {},
   "source": [
    "And you want to do something to every item in the list:"
   ]
  },
  {
   "cell_type": "code",
   "execution_count": null,
   "metadata": {},
   "outputs": [],
   "source": [
    "# For example, say we want to print every item on a different line:\n",
    "\n",
    "print(leap_years_20C[0])\n",
    "print(leap_years_20C[1])\n",
    "print(leap_years_20C[2])\n",
    "print(leap_years_20C[3])\n",
    "print(leap_years_20C[4])\n",
    "print(leap_years_20C[5])\n",
    "print(leap_years_20C[6])\n",
    "print(leap_years_20C[7])\n",
    "print(leap_years_20C[8])\n",
    "print(leap_years_20C[9])\n",
    "print(leap_years_20C[10])\n",
    "print(leap_years_20C[11])\n",
    "print(leap_years_20C[12])\n",
    "print(leap_years_20C[13])\n",
    "print(leap_years_20C[14])\n",
    "print(leap_years_20C[15])\n",
    "print(leap_years_20C[16])\n",
    "print(leap_years_20C[17])\n",
    "print(leap_years_20C[18])\n",
    "print(leap_years_20C[19])\n",
    "print(leap_years_20C[20])\n",
    "print(leap_years_20C[21])\n",
    "print(leap_years_20C[22])\n",
    "print(leap_years_20C[23])"
   ]
  },
  {
   "cell_type": "code",
   "execution_count": null,
   "metadata": {},
   "outputs": [],
   "source": [
    "# A for loop gives you a more efficient way of doing this:\n"
   ]
  },
  {
   "cell_type": "markdown",
   "metadata": {},
   "source": [
    "Suppose we want to create a new list containing the cumulative totals of the original list:"
   ]
  },
  {
   "cell_type": "code",
   "execution_count": null,
   "metadata": {},
   "outputs": [],
   "source": []
  },
  {
   "cell_type": "markdown",
   "metadata": {
    "collapsed": true
   },
   "source": [
    "What if you want to do something a set number of times?"
   ]
  },
  {
   "cell_type": "code",
   "execution_count": null,
   "metadata": {},
   "outputs": [],
   "source": []
  },
  {
   "cell_type": "markdown",
   "metadata": {
    "collapsed": true
   },
   "source": [
    "You can put loops inside loops:"
   ]
  },
  {
   "cell_type": "code",
   "execution_count": null,
   "metadata": {},
   "outputs": [],
   "source": [
    "# Print out the times tables from 1 to 10:\n",
    "        "
   ]
  },
  {
   "cell_type": "markdown",
   "metadata": {},
   "source": [
    "### While loops"
   ]
  },
  {
   "cell_type": "markdown",
   "metadata": {
    "collapsed": true
   },
   "source": [
    "Maybe you want to do something until a certain condition is met:"
   ]
  },
  {
   "cell_type": "code",
   "execution_count": null,
   "metadata": {},
   "outputs": [],
   "source": [
    "# Ask the user until you get the right answer\n",
    "\n",
    "answer = \"0\"\n",
    "\n",
    "while answer != \"4\":\n",
    "    answer = input(\"What is 2 + 2 ?\")\n",
    "print(\"Yes! 2 + 2 = 4\")"
   ]
  },
  {
   "cell_type": "code",
   "execution_count": null,
   "metadata": {},
   "outputs": [],
   "source": [
    "# Print all the powers of 2 that are less than 1000:\n"
   ]
  },
  {
   "cell_type": "markdown",
   "metadata": {
    "collapsed": true
   },
   "source": [
    "### More Advanced...\n",
    "\n",
    "You can also create lists directly using loops (these are called 'comprehensions'):"
   ]
  },
  {
   "cell_type": "code",
   "execution_count": null,
   "metadata": {},
   "outputs": [],
   "source": [
    "# Create a list of the first 10 even numbers:\n"
   ]
  },
  {
   "cell_type": "code",
   "execution_count": null,
   "metadata": {},
   "outputs": [],
   "source": [
    "# Create a list of the letters in your name (in lower case):\n"
   ]
  }
 ],
 "metadata": {
  "kernelspec": {
   "display_name": "Python 3",
   "language": "python",
   "name": "python3"
  },
  "language_info": {
   "codemirror_mode": {
    "name": "ipython",
    "version": 3
   },
   "file_extension": ".py",
   "mimetype": "text/x-python",
   "name": "python",
   "nbconvert_exporter": "python",
   "pygments_lexer": "ipython3",
   "version": "3.6.5"
  }
 },
 "nbformat": 4,
 "nbformat_minor": 1
}
