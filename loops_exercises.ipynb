{
 "cells": [
  {
   "cell_type": "markdown",
   "metadata": {},
   "source": [
    "# Session 3 - Loops - Exercises"
   ]
  },
  {
   "cell_type": "markdown",
   "metadata": {},
   "source": [
    "1) Use a for loop to print your name 15 times."
   ]
  },
  {
   "cell_type": "code",
   "execution_count": null,
   "metadata": {
    "collapsed": true
   },
   "outputs": [],
   "source": []
  },
  {
   "cell_type": "markdown",
   "metadata": {},
   "source": [
    "2) Use a for loop to create a list of the first 8 cube numbers."
   ]
  },
  {
   "cell_type": "code",
   "execution_count": null,
   "metadata": {
    "collapsed": true
   },
   "outputs": [],
   "source": []
  },
  {
   "cell_type": "markdown",
   "metadata": {},
   "source": [
    "3) Use a while loop to print the multiples of 7 that are less than 50."
   ]
  },
  {
   "cell_type": "code",
   "execution_count": null,
   "metadata": {
    "collapsed": true
   },
   "outputs": [],
   "source": []
  },
  {
   "cell_type": "markdown",
   "metadata": {},
   "source": [
    "4) Here is a list of integers:"
   ]
  },
  {
   "cell_type": "code",
   "execution_count": null,
   "metadata": {
    "collapsed": true
   },
   "outputs": [],
   "source": [
    "numbers = [951, 402, 984, 651, 360, 369, 408, 319,\n",
    "           601, 485, 980, 507, 725, 547, 544, 615,\n",
    "           183, 165, 141, 501, 263, 617, 865, 575,\n",
    "           219, 390, 984, 592, 236, 105, 942, 941,\n",
    "           386, 462, 847, 418, 907, 344, 236, 375,\n",
    "           823, 566, 597, 978, 328, 615, 953, 345,\n",
    "           399, 162, 758, 219, 918, 237, 412, 566,\n",
    "           826, 248, 866, 950, 626, 949, 687, 217,\n",
    "           815, 667, 104, 958, 512, 224, 892, 894,\n",
    "           767, 553, 181, 379, 843, 831, 445, 742,\n",
    "           717, 958, 609, 842, 451, 688, 753, 854,\n",
    "           685, 793, 857, 440, 380, 126, 721, 328,\n",
    "           753, 470, 743, 527, 580, 526, 521, 528]"
   ]
  },
  {
   "cell_type": "markdown",
   "metadata": {},
   "source": [
    "Sort the list into ascending order; then use a while loop to sum all the numbers that are less than 300 and print the result (Adapted from a question on http://learnpython.org):"
   ]
  },
  {
   "cell_type": "code",
   "execution_count": null,
   "metadata": {
    "collapsed": true
   },
   "outputs": [],
   "source": []
  },
  {
   "cell_type": "markdown",
   "metadata": {
    "collapsed": true
   },
   "source": [
    "5) Here is a list of floats:"
   ]
  },
  {
   "cell_type": "code",
   "execution_count": null,
   "metadata": {
    "collapsed": true
   },
   "outputs": [],
   "source": [
    "list_floats = [1.2, 1.5, 1.7, 1.8, 1.9, 2.0, 2.2, 1.1, 1.6, 1.2]"
   ]
  },
  {
   "cell_type": "markdown",
   "metadata": {},
   "source": [
    "Using a loop, remove all the values in even numbered positions and print the minimum and maximum of the resulting list.\n",
    "\n",
    "*(Remember that the first value has position 0.)*"
   ]
  },
  {
   "cell_type": "code",
   "execution_count": null,
   "metadata": {
    "collapsed": true
   },
   "outputs": [],
   "source": []
  },
  {
   "cell_type": "markdown",
   "metadata": {},
   "source": [
    "6) Ask the user to input a number (a positive integer). Using a loop, calculate and print the factorial of that number:\n",
    "\n",
    "*(The factorial of a number (represented by !) is the product of all integers from *1* to that number. i.e. *5! = 1\\*2\\*3\\*4\\*5* .)*"
   ]
  },
  {
   "cell_type": "code",
   "execution_count": null,
   "metadata": {
    "collapsed": true
   },
   "outputs": [],
   "source": []
  },
  {
   "cell_type": "markdown",
   "metadata": {
    "collapsed": true
   },
   "source": [
    "7) Using a loop, create a list of all the Fibonacci numbers less than 100. Think carefully about the variables that you will need to define.\n",
    "\n",
    "*(The Fibonacci sequence starts 1, 1, then each number is the sum of the previous two: 1,1,2,3,5,8,...)*"
   ]
  },
  {
   "cell_type": "code",
   "execution_count": null,
   "metadata": {
    "collapsed": true
   },
   "outputs": [],
   "source": []
  },
  {
   "cell_type": "markdown",
   "metadata": {
    "collapsed": true
   },
   "source": [
    "8) Use a for loop within a for loop to write all possible two letter words using the letters A, B, C and D.\n",
    "\n",
    "*(Don't worry about whether they are real words! You just need all possible ordered combinations of the letters.)*"
   ]
  },
  {
   "cell_type": "code",
   "execution_count": null,
   "metadata": {
    "collapsed": true
   },
   "outputs": [],
   "source": []
  },
  {
   "cell_type": "markdown",
   "metadata": {
    "collapsed": true
   },
   "source": [
    "9) Ask the user to input a word. Use a loop to create a list containing strings of the first letter of the word, the first two letters of the word, the first three letters of the word, and so on:\n",
    "\n",
    "\n",
    "*(e.g. If the user inserts the word 'cars', you should produce the list ['c','ca','car','cars'].)*"
   ]
  },
  {
   "cell_type": "code",
   "execution_count": null,
   "metadata": {
    "collapsed": true
   },
   "outputs": [],
   "source": []
  },
  {
   "cell_type": "markdown",
   "metadata": {
    "collapsed": true
   },
   "source": [
    "10) COMPREHENSIONS\n",
    "\n",
    "a) Use a comprehension to create a list containing 15 repetitions of your name.\n",
    "\n",
    "b) Use a comprehension to create a list of the sums of all consecutive numbers from 1 to 10 (i.e. 1+2, 2+3, …)."
   ]
  },
  {
   "cell_type": "code",
   "execution_count": null,
   "metadata": {
    "collapsed": true
   },
   "outputs": [],
   "source": []
  },
  {
   "cell_type": "markdown",
   "metadata": {},
   "source": [
    "If you finish these questions, you can learn about another useful Python object, the dictionary, in the Dictionaries Workbook available on Moodle.\n",
    "\n",
    "Further information on dictionaries can be found at https://www.learnpython.org/en/Dictionaries."
   ]
  },
  {
   "cell_type": "code",
   "execution_count": null,
   "metadata": {
    "collapsed": true
   },
   "outputs": [],
   "source": []
  }
 ],
 "metadata": {
  "kernelspec": {
   "display_name": "Python 3",
   "language": "python",
   "name": "python3"
  },
  "language_info": {
   "codemirror_mode": {
    "name": "ipython",
    "version": 3
   },
   "file_extension": ".py",
   "mimetype": "text/x-python",
   "name": "python",
   "nbconvert_exporter": "python",
   "pygments_lexer": "ipython3",
   "version": "3.6.5"
  }
 },
 "nbformat": 4,
 "nbformat_minor": 1
}
